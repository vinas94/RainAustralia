{
 "cells": [
  {
   "cell_type": "markdown",
   "id": "e7fa6884-a177-4cf2-8db6-bfc9c4ed4e5a",
   "metadata": {},
   "source": [
    "# Rain in Australia\n",
    "### Predicting next-day rain in Australia using an LSTM Neural Network\n",
    "\n",
    "A dataset from [Kaggle](https://www.kaggle.com/jsphyg/weather-dataset-rattle-package) </br>\n",
    "\n",
    "### **Best achieved result: F1 score of 0.78**\n",
    "\n",
    "</br>\n",
    "\n",
    "### Contents\n",
    "\n",
    "Project is split into two key pieces - data preparation and modelling.\n",
    "\n",
    "**Data preparation notebook**\n",
    "- does some data exploration,\n",
    "- cleans up several variables,\n",
    "- creates some new ones,\n",
    "- imputes missing data,\n",
    "- splits up data for train/test,\n",
    "- scales the data\n",
    "\n",
    "Extra care is taken to avoid any data leakage. Notebook runs once and saves the outputs as csvs.\n",
    "\n",
    "**Data modelling notebook**\n",
    "- reads in the cleaned csvs\n",
    "- transforms the data into an appropriate shape for the model to read in\n",
    "- throws it into a dataloader for batched processing\n",
    "- sends the data through a training loop\n",
    "- all of the metadata + artefacts (such as loss/accuracy curves) are stored in [Neptune](https://app.neptune.ai/vinas94/RainAustralia/experiments?split=tbl&dash=Dashboard-1c94a424-6e34-4147-b965-f54b9fe0bfde&viewId=fe1fb5c5-89b0-4603-8cb1-a773788aa13c)\n",
    "- a number of custom functions and the LSTM model itself is stored in the `custom.py` script\n",
    "\n",
    "</br>\n",
    "\n",
    "### Report\n",
    "\n",
    "**Motivation**  \n",
    "This data is of a time series nature. It is reasonable to assume that the weather inhibits patterns over\n",
    "several days therefore modelling this data with a model built for sequential data could work. A single\n",
    "layer LSTM Neural Network is chosen as it is widely used and is often successful.\n",
    "\n",
    "**Data transformation & LSTM settings**  \n",
    "The data needs to be reshaped to fit the LSTM input requirements. First, the dataset is split by city.\n",
    "Then, arrays of lenght 7 are created, containing the 7-day history of all 22 features prior to the target.\n",
    "These arrays are then stacked into a tensor of shape [N, 7, 22] where N represents the total number of\n",
    "observations. This is done for both training and test data.\n",
    "The chosen LSTM architecture is simple - a single layer with 5 hidden nodes. The output then goes\n",
    "through a ReLu activation function and finally into a dense linear layer with one output neuron. A\n",
    "sigmoid function is then applied in order to get the prediction. Binary Cross Entropy is used as the loss\n",
    "function for training. The network is trained for 500 epochs in batches of 128 while keeping track of the\n",
    "loss values and the performance metrics.\n",
    "\n",
    "**Results**  \n",
    "\n",
    "There were 5 different model runs in total. Each run was a slight modification of the previous one in effort\n",
    "to improve performance. Two of these runs (run 2 - the baseline and run 4 - best run) are described below.\n",
    "\n",
    "#### Base run\n",
    "\n",
    "<figure>\n",
    "  <img src=\"./Plots/run2.png\" alt=\"fig1\"/>\n",
    "  <figcaption>Figure 1: Base run using all data (run 2 from Neptune)</figcaption>\n",
    "</figure>\n",
    "\n",
    "The default network trained for the whole of 500 epochs though improvements were minimal past epoch 100.\n",
    "While loss continued to decrease, the change in accuracy was negligible reaching 0.86 for test and 0.87\n",
    "for training. Similarly, F1 score for test data kept oscillating past epoch 100 reaching an average of\n",
    "0.77. However, while overall accuracy is reasonably high, the confusion matrix in Fig 1 indicates stark\n",
    "differences in prediction performance for the majority/minority groups. Furthermore the classification\n",
    "report in Table 1 shows that while the F1 score for the majority class was 0.91 it reached only 0.62 for\n",
    "the minority group. Similarly, the recall rate for the minority class was very low at just 0.54 indicating\n",
    "sub-optimal model performance.\n",
    "\n",
    "                              precision    recall  f1-score   support  \n",
    "\n",
    "                         0.0       0.88      0.95      0.91     31774  \n",
    "                         1.0       0.74      0.54      0.62      8925  \n",
    "\n",
    "                    accuracy                           0.86     40699  \n",
    "                   macro avg       0.81      0.74      0.77     40699  \n",
    "                weighted avg       0.85      0.86      0.85     40699\n",
    "                \n",
    "    Table 1: Classification report for the base run\n",
    "\n",
    "The asymmetric performance was caused by significant class imbalance in the training data. Only\n",
    "around 22% of observations belong to the positive group thus model performance is skewed. There\n",
    "are two possible approaches to rectify this issue. One is to upsample the minority class by drawing\n",
    "observations with replacement until class ratio equalises. Second is to add a weight on the minority class\n",
    "in the loss function effectively penalising incorrect minority class predictions more. On this particular\n",
    "problem both approaches gave comparable results. However, the upsampling method was significantly\n",
    "slower to train as the data size grew by around 56%, thus, the loss weighting method was chosen instead.\n",
    "    \n",
    "#### Best run\n",
    "\n",
    "<figure>\n",
    "  <img src=\"./Plots/run4.png\" alt=\"fig2\"/>\n",
    "  <figcaption>Figure 2: Run with a positive weight in the loss function (run 4 from Neptune)</figcaption>\n",
    "</figure>\n",
    "\n",
    "Key performance metrics of the retrained LSTM using a minority class weight of 2 are displayed in Fig 2. Similarly to the previous model, most of the training happened in the first 100 epochs. However, this\n",
    "time, test data accuracy and loss curves are more volatile. The confusion matrix shows a significant\n",
    "improvement for the minority class - 15p.p. increase in the true positive rate. Though that comes\n",
    "at a cost of 7p.p. for the true negative rate. Classification report in Table 2 summarises the model\n",
    "performance. The key metric - average F1 score - improved by 1p.p. Not a major improvement but still\n",
    "welcoming. Most importantly though, the delta of the class conditional precision, recall and F1 scores\n",
    "got smaller. F1 score for the minority group increased by 4p.p\n",
    "\n",
    "                              precision    recall  f1-score   support  \n",
    "\n",
    "                         0.0       0.91      0.88      0.90     31774  \n",
    "                         1.0       0.63      0.69      0.66      8925  \n",
    "\n",
    "                    accuracy                           0.84     40699  \n",
    "                   macro avg       0.77      0.79      0.78     40699  \n",
    "                weighted avg       0.85      0.84      0.85     40699\n",
    "                \n",
    "    Table 2: Classification report for the best run"
   ]
  },
  {
   "cell_type": "markdown",
   "id": "0d9bada4-cf40-437b-9b05-b9fd9cdb7dd9",
   "metadata": {},
   "source": [
    "</br>\n",
    "\n",
    "## Loading libraries"
   ]
  },
  {
   "cell_type": "code",
   "execution_count": 1,
   "id": "revolutionary-chair",
   "metadata": {},
   "outputs": [],
   "source": [
    "# core\n",
    "import os\n",
    "import time\n",
    "import pandas as pd\n",
    "import numpy as np\n",
    "import neptune.new as neptune\n",
    "from tqdm import tqdm\n",
    "\n",
    "# graphics\n",
    "import seaborn as sns\n",
    "import matplotlib.pyplot as plt\n",
    "\n",
    "# sklearn\n",
    "from sklearn.metrics import accuracy_score, recall_score, f1_score, classification_report, confusion_matrix\n",
    "\n",
    "# torch\n",
    "import torch\n",
    "from torch import optim\n",
    "from torch.utils.data import DataLoader\n",
    "\n",
    "# custom functions\n",
    "from custom import *\n",
    "from imblearn.over_sampling import RandomOverSampler\n",
    "\n",
    "device = 'cuda:0' if torch.cuda.is_available() else 'cpu'"
   ]
  },
  {
   "cell_type": "markdown",
   "id": "1653b9a0-0449-4d9e-b6da-9ed964c6a1d7",
   "metadata": {},
   "source": [
    "</br>\n",
    "</br>\n",
    "</br>\n",
    "\n",
    "## Setting up Neptune environment"
   ]
  },
  {
   "cell_type": "code",
   "execution_count": 2,
   "id": "d56d7cc2-b570-443b-be28-49a932956f49",
   "metadata": {},
   "outputs": [
    {
     "name": "stderr",
     "output_type": "stream",
     "text": [
      "Info (NVML): NVML Shared Library Not Found. GPU usage metrics may not be reported. For more information, see https://docs-legacy.neptune.ai/logging-and-managing-experiment-results/logging-experiment-data.html#hardware-consumption \n"
     ]
    },
    {
     "name": "stdout",
     "output_type": "stream",
     "text": [
      "https://app.neptune.ai/vinas94/RainAustralia/e/WA-3\n"
     ]
    }
   ],
   "source": [
    "run = neptune.init(\n",
    "    run='WA-3',\n",
    "#     name='run 3',\n",
    "    project='vinas94/RainAustralia',\n",
    "    api_token=os.popen('cat /home/vinas/.bashrc | egrep \"NEPTUNE_API_TOKEN\"').readlines()[0][26:-2],\n",
    "#     source_files=['custom.py', 'main.ipynb']\n",
    ")"
   ]
  },
  {
   "cell_type": "code",
   "execution_count": 3,
   "id": "5cd9bef9-89b1-4926-b3a9-40d1924bbc7a",
   "metadata": {},
   "outputs": [],
   "source": [
    "PARAMS = {\n",
    "    'batch_size': 128,\n",
    "    'n_days': 7,\n",
    "    'epochs': 500,\n",
    "    'lr': 0.001,\n",
    "    'cities': [],\n",
    "    'features': []\n",
    "}"
   ]
  },
  {
   "cell_type": "markdown",
   "id": "04330f8c-baa0-4f54-83fb-66f567e0f6f7",
   "metadata": {},
   "source": [
    "</br>\n",
    "</br>\n",
    "</br>\n",
    "\n",
    "## Parsing and prepping the data"
   ]
  },
  {
   "cell_type": "code",
   "execution_count": 4,
   "id": "continuing-husband",
   "metadata": {
    "tags": []
   },
   "outputs": [],
   "source": [
    "# Reading in the data\n",
    "X_train, y_train = read_and_parse('train', cities=PARAMS['cities'], columns=PARAMS['features'])\n",
    "X_test, y_test = read_and_parse('test', cities=PARAMS['cities'], columns=PARAMS['features'])\n",
    "\n",
    "# Transforming data into input/output pairs\n",
    "X_train, y_train = transform_to_TS(X_train, y_train, n=PARAMS['n_days'])\n",
    "X_test, y_test = transform_to_TS(X_test, y_test, n=PARAMS['n_days'])\n",
    "\n",
    "# Oversampling minority class\n",
    "oversample = RandomOverSampler(sampling_strategy='minority')\n",
    "_ = oversample.fit_resample(X_train[:,:,0], y_train)\n",
    "X_train = X_train[oversample.sample_indices_]\n",
    "y_train = y_train[oversample.sample_indices_]\n",
    "\n",
    "# Creating torch class datasets\n",
    "train_dataset = timeseries(X_train, y_train)\n",
    "test_dataset = timeseries(X_test, y_test)\n",
    "\n",
    "# # Setting up dataloaders\n",
    "train_loader = DataLoader(train_dataset, shuffle=True, batch_size=PARAMS['batch_size'])\n",
    "test_loader = DataLoader(test_dataset, shuffle=True, batch_size=PARAMS['batch_size'])"
   ]
  },
  {
   "cell_type": "markdown",
   "id": "b1f8587f-2b42-418d-9a9a-eece078f38a2",
   "metadata": {},
   "source": [
    "</br>\n",
    "</br>\n",
    "</br>\n",
    "\n",
    "## Setting up the model"
   ]
  },
  {
   "cell_type": "code",
   "execution_count": 5,
   "id": "resistant-balance",
   "metadata": {},
   "outputs": [],
   "source": [
    "r = torch.tensor(len(y_train)/y_train.sum()-1, dtype=torch.float32)\n",
    "r -= 1.5 # biasing slightly towards precision\n",
    "PARAMS['r'] = torch.tensor(1) # r\n",
    "PARAMS['n_features'] = X_train.shape[2]\n",
    "\n",
    "model = LSTM(PARAMS['n_features'])\n",
    "loss = nn.BCEWithLogitsLoss(pos_weight=PARAMS['r']) # pos_weight > 1 will increase the recall while pos_weight < 1 will increase the precision.\n",
    "optimiser = optim.Adam(model.parameters(), lr=PARAMS['lr'])\n",
    "# scheduler = optim.lr_scheduler.ReduceLROnPlateau(optimiser, factor=0.1, patience=10, verbose=True)"
   ]
  },
  {
   "cell_type": "code",
   "execution_count": null,
   "id": "e6767f8f-e2b1-48c6-a582-59d0de55e0e3",
   "metadata": {},
   "outputs": [],
   "source": [
    "run['params'] = PARAMS\n",
    "run['model'] = {'model': model, 'loss': loss, 'optimiser': optimiser} # , 'scheduler': scheduler}"
   ]
  },
  {
   "cell_type": "markdown",
   "id": "f850d37b-642f-4233-8fc0-aac600187084",
   "metadata": {},
   "source": [
    "</br>\n",
    "</br>\n",
    "</br>\n",
    "\n",
    "## Executing training loop"
   ]
  },
  {
   "cell_type": "code",
   "execution_count": 7,
   "id": "transparent-adelaide",
   "metadata": {},
   "outputs": [
    {
     "name": "stderr",
     "output_type": "stream",
     "text": [
      "100%|██████████| 500/500 [38:47<00:00,  4.66s/it, test_accuracy=0.824, test_loss=0.39, train_accuracy=0.819, train_loss=0.395] \n"
     ]
    }
   ],
   "source": [
    "pbar = tqdm(range(PARAMS['epochs']))\n",
    "for epoch in pbar:\n",
    "\n",
    "    model.train()\n",
    "    loss_tr = 0\n",
    "    corr_tr = 0\n",
    "    for data in train_loader:\n",
    "        # get the inputs\n",
    "        inputs, labels = data\n",
    "        inputs, labels = inputs.to(device), labels.to(device)\n",
    "\n",
    "        # zero the parameter gradients\n",
    "        optimiser.zero_grad()\n",
    "\n",
    "        # forward + loss + backward + optimise (update weights)\n",
    "        outputs = model(inputs)\n",
    "        L = loss(outputs, labels)\n",
    "        L.backward()\n",
    "        optimiser.step()\n",
    "\n",
    "        # keep track of the loss and accuracy this epoch\n",
    "        loss_tr += L.item()\n",
    "        preds = torch.sigmoid(outputs).round()\n",
    "        corr_tr += (preds==labels).sum().item()\n",
    "        \n",
    "#     scheduler.step(loss_tr)\n",
    "#     run['artefacts/lr'].log(optimiser.param_groups[0]['lr'])\n",
    "        \n",
    "    acc_tr = corr_tr / train_loader.dataset.x.shape[0]\n",
    "    loss_tr = loss_tr / (train_loader.dataset.x.shape[0] / test_loader.dataset.x.shape[0])\n",
    "    \n",
    "    # Rescaling to fit test data\n",
    "    k = len(train_loader)/ (len(y_train)/len(y_test))\n",
    "    loss_tr /= k\n",
    "    \n",
    "    run['artefacts/loss_tr'].log(loss_tr)\n",
    "    run['artefacts/acc_tr'].log(acc_tr)\n",
    "    \n",
    "    \n",
    "    model.eval()\n",
    "    \n",
    "    # test accuracy\n",
    "    y_hat_test = get_predictions(X_test, model=model)\n",
    "    acc_tt = accuracy_score(y_test, y_hat_test)\n",
    "    run['artefacts/acc_tt'].log(acc_tt)\n",
    "    \n",
    "    run['artefacts/f1_scores'].log(f1_score(y_test, y_hat_test))\n",
    "    run['artefacts/f1_scores_avg'].log(np.mean([f1_score(y_test, y_hat_test), f1_score(1-y_test, 1-y_hat_test)]))\n",
    "    \n",
    "    # test loss\n",
    "    outputs = model(torch.tensor(X_test, dtype=torch.float32))\n",
    "    loss_tt = loss(outputs, torch.tensor(y_test, dtype=torch.float32).unsqueeze(1)).item()\n",
    "    run['artefacts/loss_tt'].log(loss_tt)\n",
    "    \n",
    "    \n",
    "    pbar.set_postfix({'test_accuracy': acc_tt,  'test_loss': loss_tt, 'train_accuracy': acc_tr, 'train_loss': loss_tr})"
   ]
  },
  {
   "cell_type": "code",
   "execution_count": 8,
   "id": "74ef8933-14fa-481d-b278-7823c2bb2b34",
   "metadata": {},
   "outputs": [],
   "source": [
    "# saving the model weights\n",
    "torch.save(model.state_dict(), './weights.weights')\n",
    "run['model/weights'].upload('./weights.weights')\n",
    "run.wait()\n",
    "os.remove('./weights.weights') "
   ]
  },
  {
   "cell_type": "markdown",
   "id": "01d6d7d0-f791-4968-b34e-4919e6909759",
   "metadata": {},
   "source": [
    "</br>\n",
    "</br>\n",
    "</br>\n",
    "\n",
    "## Loading the trained model and training summary"
   ]
  },
  {
   "cell_type": "code",
   "execution_count": 6,
   "id": "8d4889e6-5331-499b-b6fd-8a4d3490c247",
   "metadata": {},
   "outputs": [],
   "source": [
    "# recovering the model\n",
    "run['model/weights'].download()\n",
    "model = LSTM(PARAMS['n_features'])\n",
    "model.load_state_dict(torch.load('./weights.weights'))\n",
    "os.remove('./weights.weights')"
   ]
  },
  {
   "cell_type": "code",
   "execution_count": 7,
   "id": "39c6643f-6d25-4e19-a472-828278adec95",
   "metadata": {},
   "outputs": [],
   "source": [
    "# summarising artefacts in a dataframe\n",
    "summary = pd.DataFrame(\n",
    "    np.array([\n",
    "        run['artefacts/acc_tt'].fetch_values()['value'].to_numpy(),\n",
    "        run['artefacts/loss_tt'].fetch_values()['value'].to_numpy(),\n",
    "        run['artefacts/acc_tr'].fetch_values()['value'].to_numpy(),\n",
    "        run['artefacts/loss_tr'].fetch_values()['value'].to_numpy(),\n",
    "        run['artefacts/f1_scores'].fetch_values()['value'].to_numpy(),\n",
    "        run['artefacts/f1_scores_avg'].fetch_values()['value'].to_numpy()\n",
    "    ]).T,\n",
    "    columns=['accuracies_tt', 'losses_tt', 'accuracies_tr', 'losses_tr', 'f1_scores', 'f1_scores_avg']\n",
    ")"
   ]
  },
  {
   "cell_type": "markdown",
   "id": "485994b0-51f3-4c2d-aa79-31838c392503",
   "metadata": {},
   "source": [
    "</br>\n",
    "</br>\n",
    "</br>\n",
    "\n",
    "## Preliminary visualisation"
   ]
  },
  {
   "cell_type": "code",
   "execution_count": 8,
   "id": "flush-democracy",
   "metadata": {},
   "outputs": [
    {
     "data": {
      "image/png": "[encoded data removed]",
      "text/plain": [
       "<Figure size 1152x288 with 4 Axes>"
      ]
     },
     "metadata": {
      "needs_background": "light"
     },
     "output_type": "display_data"
    }
   ],
   "source": [
    "fig, ax = plt.subplots(nrows=1, ncols=3, figsize=(16,4))\n",
    "\n",
    "def reorderLegend(order, ax):\n",
    "    handles, labels = ax.get_legend_handles_labels()\n",
    "    ax.legend([handles[i] for i in order], [labels[i] for i in order])\n",
    "    \n",
    "def left(ax=ax[0]):\n",
    "    ax.plot(summary['accuracies_tt'], label='test_acc', color='#FF7F0E')\n",
    "    ax.plot(summary['accuracies_tr'], label='train_acc', color='#1F77B4')\n",
    "    ax.plot(summary['f1_scores_avg'], label='avg_f1_score', color='#2CA02C')\n",
    "    reorderLegend([1, 0, 2], ax)\n",
    "    ax.grid()\n",
    "    ax.set_ylim([0.65, 0.88])\n",
    "    ax.set_title('Accuracy curves')\n",
    "    sns.despine(ax=ax)\n",
    "    \n",
    "    \n",
    "def mid(ax=ax[1]):\n",
    "    ax.plot(summary['losses_tr'], label='train_loss')\n",
    "    ax.plot(summary['losses_tt'], label='test_loss')\n",
    "    ax.legend()\n",
    "    ax.grid()\n",
    "    ax.set_title('Loss curves')\n",
    "    sns.despine(ax=ax)\n",
    "    \n",
    "def right(ax=ax[2]):\n",
    "    plot_conf_matrix(y_test, y_hat_test, normalise='true', ax=ax)\n",
    "    ax.set_title('Confusion matrix, normalised by \\'True\\'')\n",
    "    \n",
    "    # Storing the confusion matrix in Neptune\n",
    "    figg, axx = plt.subplots(figsize=(11,9))\n",
    "    plot_conf_matrix(y_test, y_hat_test, normalise='true', fontsize=15, ax=axx)\n",
    "    axx.set_title('Confusion matrix, normalised by \\'True\\'', fontsize=15);\n",
    "    plt.close()\n",
    "    run['plots/confusion_matrix'] = neptune.types.File.as_image(figg)\n",
    "\n",
    "y_hat_test = get_predictions(X_test, model=model)\n",
    "\n",
    "left()\n",
    "mid()\n",
    "right()\n",
    "\n",
    "# plt.savefig('./Plots/<>.png', bbox_inches='tight', pad_inches=0.1)"
   ]
  },
  {
   "cell_type": "code",
   "execution_count": 9,
   "id": "90fdde1a-5959-4c2d-b389-294d09be0243",
   "metadata": {},
   "outputs": [
    {
     "data": {
      "text/html": [
       "<div>\n",
       "<style scoped>\n",
       "    .dataframe tbody tr th:only-of-type {\n",
       "        vertical-align: middle;\n",
       "    }\n",
       "\n",
       "    .dataframe tbody tr th {\n",
       "        vertical-align: top;\n",
       "    }\n",
       "\n",
       "    .dataframe thead th {\n",
       "        text-align: right;\n",
       "    }\n",
       "</style>\n",
       "<table border=\"1\" class=\"dataframe\">\n",
       "  <thead>\n",
       "    <tr style=\"text-align: right;\">\n",
       "      <th></th>\n",
       "      <th>precision</th>\n",
       "      <th>recall</th>\n",
       "      <th>f1-score</th>\n",
       "      <th>support</th>\n",
       "    </tr>\n",
       "  </thead>\n",
       "  <tbody>\n",
       "    <tr>\n",
       "      <th>0.0</th>\n",
       "      <td>0.91</td>\n",
       "      <td>0.88</td>\n",
       "      <td>0.9</td>\n",
       "      <td>31774</td>\n",
       "    </tr>\n",
       "    <tr>\n",
       "      <th>1.0</th>\n",
       "      <td>0.63</td>\n",
       "      <td>0.69</td>\n",
       "      <td>0.66</td>\n",
       "      <td>8925</td>\n",
       "    </tr>\n",
       "    <tr>\n",
       "      <th></th>\n",
       "      <td></td>\n",
       "      <td></td>\n",
       "      <td></td>\n",
       "      <td></td>\n",
       "    </tr>\n",
       "    <tr>\n",
       "      <th>accuracy</th>\n",
       "      <td></td>\n",
       "      <td></td>\n",
       "      <td>0.84</td>\n",
       "      <td></td>\n",
       "    </tr>\n",
       "    <tr>\n",
       "      <th>macro avg</th>\n",
       "      <td>0.77</td>\n",
       "      <td>0.79</td>\n",
       "      <td>0.78</td>\n",
       "      <td>40699</td>\n",
       "    </tr>\n",
       "    <tr>\n",
       "      <th>weighted avg</th>\n",
       "      <td>0.85</td>\n",
       "      <td>0.84</td>\n",
       "      <td>0.85</td>\n",
       "      <td>40699</td>\n",
       "    </tr>\n",
       "  </tbody>\n",
       "</table>\n",
       "</div>"
      ],
      "text/plain": [
       "             precision recall f1-score support\n",
       "0.0               0.91   0.88      0.9   31774\n",
       "1.0               0.63   0.69     0.66    8925\n",
       "                                              \n",
       "accuracy                          0.84        \n",
       "macro avg         0.77   0.79     0.78   40699\n",
       "weighted avg      0.85   0.84     0.85   40699"
      ]
     },
     "execution_count": 9,
     "metadata": {},
     "output_type": "execute_result"
    }
   ],
   "source": [
    "clr = class_report(y_test, y_hat_test)\n",
    "run['artefacts/clr'] = neptune.types.File.as_html(clr)\n",
    "clr"
   ]
  },
  {
   "cell_type": "code",
   "execution_count": null,
   "id": "444fe2b7-d0b7-4fa4-9388-4c104f2f09ce",
   "metadata": {},
   "outputs": [],
   "source": []
  }
 ],
 "metadata": {
  "kernelspec": {
   "display_name": "Python 3",
   "language": "python",
   "name": "python3"
  },
  "language_info": {
   "codemirror_mode": {
    "name": "ipython",
    "version": 3
   },
   "file_extension": ".py",
   "mimetype": "text/x-python",
   "name": "python",
   "nbconvert_exporter": "python",
   "pygments_lexer": "ipython3",
   "version": "3.8.10"
  },
  "neptune": {
   "notebookId": "3b18d8ef-8329-4d34-a31f-b73544421fca",
   "projectVersion": 2
  }
 },
 "nbformat": 4,
 "nbformat_minor": 5
}
